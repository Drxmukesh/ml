{
 "cells": [
  {
   "cell_type": "code",
   "execution_count": 1,
   "metadata": {},
   "outputs": [
    {
     "name": "stdout",
     "output_type": "stream",
     "text": [
      "Collecting seaborn\n",
      "  Downloading seaborn-0.13.2-py3-none-any.whl.metadata (5.4 kB)\n",
      "Collecting numpy!=1.24.0,>=1.20 (from seaborn)\n",
      "  Downloading numpy-2.1.3-cp312-cp312-win_amd64.whl.metadata (60 kB)\n",
      "Collecting pandas>=1.2 (from seaborn)\n",
      "  Downloading pandas-2.2.3-cp312-cp312-win_amd64.whl.metadata (19 kB)\n",
      "Collecting matplotlib!=3.6.1,>=3.4 (from seaborn)\n",
      "  Downloading matplotlib-3.9.2-cp312-cp312-win_amd64.whl.metadata (11 kB)\n",
      "Collecting contourpy>=1.0.1 (from matplotlib!=3.6.1,>=3.4->seaborn)\n",
      "  Downloading contourpy-1.3.1-cp312-cp312-win_amd64.whl.metadata (5.4 kB)\n",
      "Collecting cycler>=0.10 (from matplotlib!=3.6.1,>=3.4->seaborn)\n",
      "  Downloading cycler-0.12.1-py3-none-any.whl.metadata (3.8 kB)\n",
      "Collecting fonttools>=4.22.0 (from matplotlib!=3.6.1,>=3.4->seaborn)\n",
      "  Downloading fonttools-4.55.0-cp312-cp312-win_amd64.whl.metadata (167 kB)\n",
      "Collecting kiwisolver>=1.3.1 (from matplotlib!=3.6.1,>=3.4->seaborn)\n",
      "  Downloading kiwisolver-1.4.7-cp312-cp312-win_amd64.whl.metadata (6.4 kB)\n",
      "Requirement already satisfied: packaging>=20.0 in c:\\users\\drxmu\\miniconda3\\lib\\site-packages (from matplotlib!=3.6.1,>=3.4->seaborn) (24.1)\n",
      "Collecting pillow>=8 (from matplotlib!=3.6.1,>=3.4->seaborn)\n",
      "  Downloading pillow-11.0.0-cp312-cp312-win_amd64.whl.metadata (9.3 kB)\n",
      "Collecting pyparsing>=2.3.1 (from matplotlib!=3.6.1,>=3.4->seaborn)\n",
      "  Downloading pyparsing-3.2.0-py3-none-any.whl.metadata (5.0 kB)\n",
      "Requirement already satisfied: python-dateutil>=2.7 in c:\\users\\drxmu\\miniconda3\\lib\\site-packages (from matplotlib!=3.6.1,>=3.4->seaborn) (2.9.0.post0)\n",
      "Collecting pytz>=2020.1 (from pandas>=1.2->seaborn)\n",
      "  Downloading pytz-2024.2-py2.py3-none-any.whl.metadata (22 kB)\n",
      "Collecting tzdata>=2022.7 (from pandas>=1.2->seaborn)\n",
      "  Downloading tzdata-2024.2-py2.py3-none-any.whl.metadata (1.4 kB)\n",
      "Requirement already satisfied: six>=1.5 in c:\\users\\drxmu\\miniconda3\\lib\\site-packages (from python-dateutil>=2.7->matplotlib!=3.6.1,>=3.4->seaborn) (1.16.0)\n",
      "Downloading seaborn-0.13.2-py3-none-any.whl (294 kB)\n",
      "Downloading matplotlib-3.9.2-cp312-cp312-win_amd64.whl (7.8 MB)\n",
      "   ---------------------------------------- 0.0/7.8 MB ? eta -:--:--\n",
      "   ----- ---------------------------------- 1.0/7.8 MB 5.0 MB/s eta 0:00:02\n",
      "   ---------- ----------------------------- 2.1/7.8 MB 4.9 MB/s eta 0:00:02\n",
      "   ---------------- ----------------------- 3.1/7.8 MB 5.0 MB/s eta 0:00:01\n",
      "   --------------------- ------------------ 4.2/7.8 MB 4.9 MB/s eta 0:00:01\n",
      "   -------------------------- ------------- 5.2/7.8 MB 5.0 MB/s eta 0:00:01\n",
      "   --------------------------------- ------ 6.6/7.8 MB 5.0 MB/s eta 0:00:01\n",
      "   -------------------------------------- - 7.6/7.8 MB 4.9 MB/s eta 0:00:01\n",
      "   ---------------------------------------- 7.8/7.8 MB 4.8 MB/s eta 0:00:00\n",
      "Downloading numpy-2.1.3-cp312-cp312-win_amd64.whl (12.6 MB)\n",
      "   ---------------------------------------- 0.0/12.6 MB ? eta -:--:--\n",
      "   --- ------------------------------------ 1.0/12.6 MB 5.0 MB/s eta 0:00:03\n",
      "   ------ --------------------------------- 2.1/12.6 MB 5.1 MB/s eta 0:00:03\n",
      "   ---------- ----------------------------- 3.1/12.6 MB 5.0 MB/s eta 0:00:02\n",
      "   ------------- -------------------------- 4.2/12.6 MB 5.0 MB/s eta 0:00:02\n",
      "   ---------------- ----------------------- 5.2/12.6 MB 5.0 MB/s eta 0:00:02\n",
      "   -------------------- ------------------- 6.6/12.6 MB 5.0 MB/s eta 0:00:02\n",
      "   ------------------------ --------------- 7.6/12.6 MB 5.0 MB/s eta 0:00:01\n",
      "   --------------------------- ------------ 8.7/12.6 MB 5.0 MB/s eta 0:00:01\n",
      "   ------------------------------ --------- 9.7/12.6 MB 5.0 MB/s eta 0:00:01\n",
      "   ---------------------------------- ----- 10.7/12.6 MB 5.0 MB/s eta 0:00:01\n",
      "   ------------------------------------- -- 11.8/12.6 MB 5.0 MB/s eta 0:00:01\n",
      "   ---------------------------------------  12.3/12.6 MB 5.0 MB/s eta 0:00:01\n",
      "   ---------------------------------------- 12.6/12.6 MB 4.7 MB/s eta 0:00:00\n",
      "Downloading pandas-2.2.3-cp312-cp312-win_amd64.whl (11.5 MB)\n",
      "   ---------------------------------------- 0.0/11.5 MB ? eta -:--:--\n",
      "   --- ------------------------------------ 1.0/11.5 MB 5.0 MB/s eta 0:00:03\n",
      "   -------- ------------------------------- 2.4/11.5 MB 5.0 MB/s eta 0:00:02\n",
      "   ----------- ---------------------------- 3.4/11.5 MB 5.0 MB/s eta 0:00:02\n",
      "   --------------- ------------------------ 4.5/11.5 MB 5.0 MB/s eta 0:00:02\n",
      "   ------------------- -------------------- 5.5/11.5 MB 4.9 MB/s eta 0:00:02\n",
      "   ---------------------- ----------------- 6.6/11.5 MB 5.0 MB/s eta 0:00:01\n",
      "   -------------------------- ------------- 7.6/11.5 MB 4.9 MB/s eta 0:00:01\n",
      "   ------------------------------ --------- 8.7/11.5 MB 5.0 MB/s eta 0:00:01\n",
      "   --------------------------------- ------ 9.7/11.5 MB 5.0 MB/s eta 0:00:01\n",
      "   ------------------------------------- -- 10.7/11.5 MB 4.9 MB/s eta 0:00:01\n",
      "   ---------------------------------------- 11.5/11.5 MB 4.9 MB/s eta 0:00:00\n",
      "Downloading contourpy-1.3.1-cp312-cp312-win_amd64.whl (220 kB)\n",
      "Downloading cycler-0.12.1-py3-none-any.whl (8.3 kB)\n",
      "Downloading fonttools-4.55.0-cp312-cp312-win_amd64.whl (2.2 MB)\n",
      "   ---------------------------------------- 0.0/2.2 MB ? eta -:--:--\n",
      "   ------------------- -------------------- 1.0/2.2 MB 5.0 MB/s eta 0:00:01\n",
      "   -------------------------------------- - 2.1/2.2 MB 5.1 MB/s eta 0:00:01\n",
      "   ---------------------------------------- 2.2/2.2 MB 4.8 MB/s eta 0:00:00\n",
      "Downloading kiwisolver-1.4.7-cp312-cp312-win_amd64.whl (55 kB)\n",
      "Downloading pillow-11.0.0-cp312-cp312-win_amd64.whl (2.6 MB)\n",
      "   ---------------------------------------- 0.0/2.6 MB ? eta -:--:--\n",
      "   ---------------- ----------------------- 1.0/2.6 MB 5.0 MB/s eta 0:00:01\n",
      "   -------------------------------- ------- 2.1/2.6 MB 5.1 MB/s eta 0:00:01\n",
      "   ---------------------------------------- 2.6/2.6 MB 4.8 MB/s eta 0:00:00\n",
      "Downloading pyparsing-3.2.0-py3-none-any.whl (106 kB)\n",
      "Downloading pytz-2024.2-py2.py3-none-any.whl (508 kB)\n",
      "Downloading tzdata-2024.2-py2.py3-none-any.whl (346 kB)\n",
      "Installing collected packages: pytz, tzdata, pyparsing, pillow, numpy, kiwisolver, fonttools, cycler, pandas, contourpy, matplotlib, seaborn\n",
      "Successfully installed contourpy-1.3.1 cycler-0.12.1 fonttools-4.55.0 kiwisolver-1.4.7 matplotlib-3.9.2 numpy-2.1.3 pandas-2.2.3 pillow-11.0.0 pyparsing-3.2.0 pytz-2024.2 seaborn-0.13.2 tzdata-2024.2\n",
      "Collecting statsmodels\n",
      "  Downloading statsmodels-0.14.4-cp312-cp312-win_amd64.whl.metadata (9.5 kB)\n",
      "Requirement already satisfied: numpy<3,>=1.22.3 in c:\\users\\drxmu\\miniconda3\\lib\\site-packages (from statsmodels) (2.1.3)\n",
      "Collecting scipy!=1.9.2,>=1.8 (from statsmodels)\n",
      "  Downloading scipy-1.14.1-cp312-cp312-win_amd64.whl.metadata (60 kB)\n",
      "Requirement already satisfied: pandas!=2.1.0,>=1.4 in c:\\users\\drxmu\\miniconda3\\lib\\site-packages (from statsmodels) (2.2.3)\n",
      "Collecting patsy>=0.5.6 (from statsmodels)\n",
      "  Downloading patsy-1.0.1-py2.py3-none-any.whl.metadata (3.3 kB)\n",
      "Requirement already satisfied: packaging>=21.3 in c:\\users\\drxmu\\miniconda3\\lib\\site-packages (from statsmodels) (24.1)\n",
      "Requirement already satisfied: python-dateutil>=2.8.2 in c:\\users\\drxmu\\miniconda3\\lib\\site-packages (from pandas!=2.1.0,>=1.4->statsmodels) (2.9.0.post0)\n",
      "Requirement already satisfied: pytz>=2020.1 in c:\\users\\drxmu\\miniconda3\\lib\\site-packages (from pandas!=2.1.0,>=1.4->statsmodels) (2024.2)\n",
      "Requirement already satisfied: tzdata>=2022.7 in c:\\users\\drxmu\\miniconda3\\lib\\site-packages (from pandas!=2.1.0,>=1.4->statsmodels) (2024.2)\n",
      "Requirement already satisfied: six>=1.5 in c:\\users\\drxmu\\miniconda3\\lib\\site-packages (from python-dateutil>=2.8.2->pandas!=2.1.0,>=1.4->statsmodels) (1.16.0)\n",
      "Downloading statsmodels-0.14.4-cp312-cp312-win_amd64.whl (9.8 MB)\n",
      "   ---------------------------------------- 0.0/9.8 MB ? eta -:--:--\n",
      "   ---- ----------------------------------- 1.0/9.8 MB 5.0 MB/s eta 0:00:02\n",
      "   -------- ------------------------------- 2.1/9.8 MB 5.1 MB/s eta 0:00:02\n",
      "   ------------ --------------------------- 3.1/9.8 MB 5.0 MB/s eta 0:00:02\n",
      "   ----------------- ---------------------- 4.2/9.8 MB 5.0 MB/s eta 0:00:02\n",
      "   --------------------- ------------------ 5.2/9.8 MB 5.0 MB/s eta 0:00:01\n",
      "   ------------------------- -------------- 6.3/9.8 MB 4.9 MB/s eta 0:00:01\n",
      "   ----------------------------- ---------- 7.3/9.8 MB 5.0 MB/s eta 0:00:01\n",
      "   ---------------------------------- ----- 8.4/9.8 MB 5.0 MB/s eta 0:00:01\n",
      "   -------------------------------------- - 9.4/9.8 MB 5.0 MB/s eta 0:00:01\n",
      "   ---------------------------------------- 9.8/9.8 MB 4.9 MB/s eta 0:00:00\n",
      "Downloading patsy-1.0.1-py2.py3-none-any.whl (232 kB)\n",
      "Downloading scipy-1.14.1-cp312-cp312-win_amd64.whl (44.5 MB)\n",
      "   ---------------------------------------- 0.0/44.5 MB ? eta -:--:--\n",
      "    --------------------------------------- 1.0/44.5 MB 5.0 MB/s eta 0:00:09\n",
      "   - -------------------------------------- 2.1/44.5 MB 4.9 MB/s eta 0:00:09\n",
      "   -- ------------------------------------- 3.1/44.5 MB 4.9 MB/s eta 0:00:09\n",
      "   --- ------------------------------------ 4.2/44.5 MB 4.9 MB/s eta 0:00:09\n",
      "   ---- ----------------------------------- 5.2/44.5 MB 5.0 MB/s eta 0:00:08\n",
      "   ----- ---------------------------------- 6.3/44.5 MB 4.9 MB/s eta 0:00:08\n",
      "   ------ --------------------------------- 7.3/44.5 MB 4.9 MB/s eta 0:00:08\n",
      "   ------- -------------------------------- 8.4/44.5 MB 4.9 MB/s eta 0:00:08\n",
      "   -------- ------------------------------- 9.4/44.5 MB 4.9 MB/s eta 0:00:08\n",
      "   --------- ------------------------------ 10.5/44.5 MB 4.9 MB/s eta 0:00:07\n",
      "   ---------- ----------------------------- 11.5/44.5 MB 4.9 MB/s eta 0:00:07\n",
      "   ----------- ---------------------------- 12.6/44.5 MB 4.9 MB/s eta 0:00:07\n",
      "   ------------ --------------------------- 13.9/44.5 MB 4.9 MB/s eta 0:00:07\n",
      "   ------------- -------------------------- 14.9/44.5 MB 4.9 MB/s eta 0:00:06\n",
      "   -------------- ------------------------- 16.0/44.5 MB 5.0 MB/s eta 0:00:06\n",
      "   --------------- ------------------------ 17.0/44.5 MB 4.9 MB/s eta 0:00:06\n",
      "   ---------------- ----------------------- 18.1/44.5 MB 5.0 MB/s eta 0:00:06\n",
      "   ----------------- ---------------------- 19.1/44.5 MB 5.0 MB/s eta 0:00:06\n",
      "   ------------------ --------------------- 20.2/44.5 MB 4.9 MB/s eta 0:00:05\n",
      "   ------------------- -------------------- 21.2/44.5 MB 5.0 MB/s eta 0:00:05\n",
      "   -------------------- ------------------- 22.3/44.5 MB 4.9 MB/s eta 0:00:05\n",
      "   -------------------- ------------------- 23.3/44.5 MB 5.0 MB/s eta 0:00:05\n",
      "   --------------------- ------------------ 24.4/44.5 MB 4.9 MB/s eta 0:00:05\n",
      "   ---------------------- ----------------- 25.4/44.5 MB 5.0 MB/s eta 0:00:04\n",
      "   ----------------------- ---------------- 26.5/44.5 MB 4.9 MB/s eta 0:00:04\n",
      "   ------------------------ --------------- 27.5/44.5 MB 5.0 MB/s eta 0:00:04\n",
      "   ------------------------- -------------- 28.6/44.5 MB 5.0 MB/s eta 0:00:04\n",
      "   -------------------------- ------------- 29.6/44.5 MB 5.0 MB/s eta 0:00:04\n",
      "   --------------------------- ------------ 30.7/44.5 MB 5.0 MB/s eta 0:00:03\n",
      "   ---------------------------- ----------- 31.7/44.5 MB 5.0 MB/s eta 0:00:03\n",
      "   ----------------------------- ---------- 32.8/44.5 MB 5.0 MB/s eta 0:00:03\n",
      "   ------------------------------ --------- 33.8/44.5 MB 5.0 MB/s eta 0:00:03\n",
      "   ------------------------------- -------- 34.9/44.5 MB 5.0 MB/s eta 0:00:02\n",
      "   -------------------------------- ------- 35.9/44.5 MB 5.0 MB/s eta 0:00:02\n",
      "   --------------------------------- ------ 37.0/44.5 MB 5.0 MB/s eta 0:00:02\n",
      "   ---------------------------------- ----- 38.0/44.5 MB 5.0 MB/s eta 0:00:02\n",
      "   ----------------------------------- ---- 39.1/44.5 MB 5.0 MB/s eta 0:00:02\n",
      "   ------------------------------------ --- 40.1/44.5 MB 5.0 MB/s eta 0:00:01\n",
      "   ------------------------------------ --- 41.2/44.5 MB 5.0 MB/s eta 0:00:01\n",
      "   ------------------------------------- -- 42.2/44.5 MB 5.0 MB/s eta 0:00:01\n",
      "   -------------------------------------- - 43.3/44.5 MB 5.0 MB/s eta 0:00:01\n",
      "   ---------------------------------------  44.3/44.5 MB 5.0 MB/s eta 0:00:01\n",
      "   ---------------------------------------  44.3/44.5 MB 5.0 MB/s eta 0:00:01\n",
      "   ---------------------------------------- 44.5/44.5 MB 4.8 MB/s eta 0:00:00\n",
      "Installing collected packages: scipy, patsy, statsmodels\n",
      "Successfully installed patsy-1.0.1 scipy-1.14.1 statsmodels-0.14.4\n",
      "Collecting scikit-learn\n",
      "  Downloading scikit_learn-1.5.2-cp312-cp312-win_amd64.whl.metadata (13 kB)\n",
      "Requirement already satisfied: numpy>=1.19.5 in c:\\users\\drxmu\\miniconda3\\lib\\site-packages (from scikit-learn) (2.1.3)\n",
      "Requirement already satisfied: scipy>=1.6.0 in c:\\users\\drxmu\\miniconda3\\lib\\site-packages (from scikit-learn) (1.14.1)\n",
      "Collecting joblib>=1.2.0 (from scikit-learn)\n",
      "  Downloading joblib-1.4.2-py3-none-any.whl.metadata (5.4 kB)\n",
      "Collecting threadpoolctl>=3.1.0 (from scikit-learn)\n",
      "  Downloading threadpoolctl-3.5.0-py3-none-any.whl.metadata (13 kB)\n",
      "Downloading scikit_learn-1.5.2-cp312-cp312-win_amd64.whl (11.0 MB)\n",
      "   ---------------------------------------- 0.0/11.0 MB ? eta -:--:--\n",
      "   --- ------------------------------------ 1.0/11.0 MB 5.0 MB/s eta 0:00:02\n",
      "   ------- -------------------------------- 2.1/11.0 MB 5.1 MB/s eta 0:00:02\n",
      "   ----------- ---------------------------- 3.1/11.0 MB 5.0 MB/s eta 0:00:02\n",
      "   --------------- ------------------------ 4.2/11.0 MB 4.9 MB/s eta 0:00:02\n",
      "   -------------------- ------------------- 5.5/11.0 MB 5.0 MB/s eta 0:00:02\n",
      "   ----------------------- ---------------- 6.6/11.0 MB 5.0 MB/s eta 0:00:01\n",
      "   --------------------------- ------------ 7.6/11.0 MB 5.0 MB/s eta 0:00:01\n",
      "   ------------------------------- -------- 8.7/11.0 MB 5.0 MB/s eta 0:00:01\n",
      "   ----------------------------------- ---- 9.7/11.0 MB 5.0 MB/s eta 0:00:01\n",
      "   ---------------------------------------  10.7/11.0 MB 5.0 MB/s eta 0:00:01\n",
      "   ---------------------------------------- 11.0/11.0 MB 4.8 MB/s eta 0:00:00\n",
      "Downloading joblib-1.4.2-py3-none-any.whl (301 kB)\n",
      "Downloading threadpoolctl-3.5.0-py3-none-any.whl (18 kB)\n",
      "Installing collected packages: threadpoolctl, joblib, scikit-learn\n",
      "Successfully installed joblib-1.4.2 scikit-learn-1.5.2 threadpoolctl-3.5.0\n",
      "Requirement already satisfied: matplotlib in c:\\users\\drxmu\\miniconda3\\lib\\site-packages (3.9.2)\n",
      "Requirement already satisfied: contourpy>=1.0.1 in c:\\users\\drxmu\\miniconda3\\lib\\site-packages (from matplotlib) (1.3.1)\n",
      "Requirement already satisfied: cycler>=0.10 in c:\\users\\drxmu\\miniconda3\\lib\\site-packages (from matplotlib) (0.12.1)\n",
      "Requirement already satisfied: fonttools>=4.22.0 in c:\\users\\drxmu\\miniconda3\\lib\\site-packages (from matplotlib) (4.55.0)\n",
      "Requirement already satisfied: kiwisolver>=1.3.1 in c:\\users\\drxmu\\miniconda3\\lib\\site-packages (from matplotlib) (1.4.7)\n",
      "Requirement already satisfied: numpy>=1.23 in c:\\users\\drxmu\\miniconda3\\lib\\site-packages (from matplotlib) (2.1.3)\n",
      "Requirement already satisfied: packaging>=20.0 in c:\\users\\drxmu\\miniconda3\\lib\\site-packages (from matplotlib) (24.1)\n",
      "Requirement already satisfied: pillow>=8 in c:\\users\\drxmu\\miniconda3\\lib\\site-packages (from matplotlib) (11.0.0)\n",
      "Requirement already satisfied: pyparsing>=2.3.1 in c:\\users\\drxmu\\miniconda3\\lib\\site-packages (from matplotlib) (3.2.0)\n",
      "Requirement already satisfied: python-dateutil>=2.7 in c:\\users\\drxmu\\miniconda3\\lib\\site-packages (from matplotlib) (2.9.0.post0)\n",
      "Requirement already satisfied: six>=1.5 in c:\\users\\drxmu\\miniconda3\\lib\\site-packages (from python-dateutil>=2.7->matplotlib) (1.16.0)\n"
     ]
    }
   ],
   "source": [
    "! pip install seaborn\n",
    "! pip install statsmodels\n",
    "! pip install scikit-learn\n",
    "! pip install matplotlib"
   ]
  },
  {
   "cell_type": "markdown",
   "metadata": {
    "id": "UgLPjlenOAZU"
   },
   "source": [
    "# Import Data Set"
   ]
  },
  {
   "cell_type": "code",
   "execution_count": 3,
   "metadata": {
    "colab": {
     "base_uri": "https://localhost:8080/",
     "height": 206
    },
    "id": "t87KFKu3OAZV",
    "outputId": "c100641c-d78a-4498-f489-44483fa8795c"
   },
   "outputs": [
    {
     "data": {
      "text/html": [
       "<div>\n",
       "<style scoped>\n",
       "    .dataframe tbody tr th:only-of-type {\n",
       "        vertical-align: middle;\n",
       "    }\n",
       "\n",
       "    .dataframe tbody tr th {\n",
       "        vertical-align: top;\n",
       "    }\n",
       "\n",
       "    .dataframe thead th {\n",
       "        text-align: right;\n",
       "    }\n",
       "</style>\n",
       "<table border=\"1\" class=\"dataframe\">\n",
       "  <thead>\n",
       "    <tr style=\"text-align: right;\">\n",
       "      <th></th>\n",
       "      <th>Newspaper</th>\n",
       "      <th>daily</th>\n",
       "      <th>sunday</th>\n",
       "    </tr>\n",
       "  </thead>\n",
       "  <tbody>\n",
       "    <tr>\n",
       "      <th>0</th>\n",
       "      <td>Baltimore Sun</td>\n",
       "      <td>391.952</td>\n",
       "      <td>488.506</td>\n",
       "    </tr>\n",
       "    <tr>\n",
       "      <th>1</th>\n",
       "      <td>Boston Globe</td>\n",
       "      <td>516.981</td>\n",
       "      <td>798.298</td>\n",
       "    </tr>\n",
       "    <tr>\n",
       "      <th>2</th>\n",
       "      <td>Boston Herald</td>\n",
       "      <td>355.628</td>\n",
       "      <td>235.084</td>\n",
       "    </tr>\n",
       "    <tr>\n",
       "      <th>3</th>\n",
       "      <td>Charlotte Observer</td>\n",
       "      <td>238.555</td>\n",
       "      <td>299.451</td>\n",
       "    </tr>\n",
       "    <tr>\n",
       "      <th>4</th>\n",
       "      <td>Chicago Sun Times</td>\n",
       "      <td>537.780</td>\n",
       "      <td>559.093</td>\n",
       "    </tr>\n",
       "  </tbody>\n",
       "</table>\n",
       "</div>"
      ],
      "text/plain": [
       "            Newspaper    daily   sunday\n",
       "0       Baltimore Sun  391.952  488.506\n",
       "1        Boston Globe  516.981  798.298\n",
       "2       Boston Herald  355.628  235.084\n",
       "3  Charlotte Observer  238.555  299.451\n",
       "4   Chicago Sun Times  537.780  559.093"
      ]
     },
     "execution_count": 3,
     "metadata": {},
     "output_type": "execute_result"
    }
   ],
   "source": [
    "import pandas as pd\n",
    "data = pd.read_csv(\"mat_csv\\\\NewspaperData.csv\")\n",
    "data.head()"
   ]
  },
  {
   "cell_type": "code",
   "execution_count": 4,
   "metadata": {
    "colab": {
     "base_uri": "https://localhost:8080/"
    },
    "id": "gPex3jqaon5p",
    "outputId": "9c239283-f3f0-457c-9384-c94e0397ac47"
   },
   "outputs": [
    {
     "name": "stdout",
     "output_type": "stream",
     "text": [
      "<class 'pandas.core.frame.DataFrame'>\n",
      "RangeIndex: 34 entries, 0 to 33\n",
      "Data columns (total 3 columns):\n",
      " #   Column     Non-Null Count  Dtype  \n",
      "---  ------     --------------  -----  \n",
      " 0   Newspaper  34 non-null     object \n",
      " 1   daily      34 non-null     float64\n",
      " 2   sunday     34 non-null     float64\n",
      "dtypes: float64(2), object(1)\n",
      "memory usage: 948.0+ bytes\n"
     ]
    }
   ],
   "source": [
    "data.info()"
   ]
  },
  {
   "cell_type": "code",
   "execution_count": 5,
   "metadata": {},
   "outputs": [],
   "source": [
    "df = data[['daily','sunday']]"
   ]
  },
  {
   "cell_type": "markdown",
   "metadata": {
    "id": "whOIvCAzOAZZ"
   },
   "source": [
    "# Correlation"
   ]
  },
  {
   "cell_type": "code",
   "execution_count": 6,
   "metadata": {
    "id": "4Uaqam_BOAZZ",
    "outputId": "2118fe0b-d1d6-4474-cf45-8e8b0b4680b2"
   },
   "outputs": [
    {
     "data": {
      "text/html": [
       "<div>\n",
       "<style scoped>\n",
       "    .dataframe tbody tr th:only-of-type {\n",
       "        vertical-align: middle;\n",
       "    }\n",
       "\n",
       "    .dataframe tbody tr th {\n",
       "        vertical-align: top;\n",
       "    }\n",
       "\n",
       "    .dataframe thead th {\n",
       "        text-align: right;\n",
       "    }\n",
       "</style>\n",
       "<table border=\"1\" class=\"dataframe\">\n",
       "  <thead>\n",
       "    <tr style=\"text-align: right;\">\n",
       "      <th></th>\n",
       "      <th>daily</th>\n",
       "      <th>sunday</th>\n",
       "    </tr>\n",
       "  </thead>\n",
       "  <tbody>\n",
       "    <tr>\n",
       "      <th>daily</th>\n",
       "      <td>1.000000</td>\n",
       "      <td>0.958154</td>\n",
       "    </tr>\n",
       "    <tr>\n",
       "      <th>sunday</th>\n",
       "      <td>0.958154</td>\n",
       "      <td>1.000000</td>\n",
       "    </tr>\n",
       "  </tbody>\n",
       "</table>\n",
       "</div>"
      ],
      "text/plain": [
       "           daily    sunday\n",
       "daily   1.000000  0.958154\n",
       "sunday  0.958154  1.000000"
      ]
     },
     "execution_count": 6,
     "metadata": {},
     "output_type": "execute_result"
    }
   ],
   "source": [
    "df.corr()"
   ]
  },
  {
   "cell_type": "code",
   "execution_count": 7,
   "metadata": {
    "colab": {
     "base_uri": "https://localhost:8080/",
     "height": 351
    },
    "id": "3fyE2q6-on5s",
    "outputId": "a707e5b6-f1b4-43f6-9448-6bda3667eb11"
   },
   "outputs": [
    {
     "name": "stderr",
     "output_type": "stream",
     "text": [
      "C:\\Users\\drxmu\\AppData\\Local\\Temp\\ipykernel_15708\\2929324081.py:2: UserWarning: \n",
      "\n",
      "`distplot` is a deprecated function and will be removed in seaborn v0.14.0.\n",
      "\n",
      "Please adapt your code to use either `displot` (a figure-level function with\n",
      "similar flexibility) or `histplot` (an axes-level function for histograms).\n",
      "\n",
      "For a guide to updating your code to use the new functions, please see\n",
      "https://gist.github.com/mwaskom/de44147ed2974457ad6372750bbe5751\n",
      "\n",
      "  sns.distplot(data['daily'])\n"
     ]
    },
    {
     "data": {
      "text/plain": [
       "<Axes: xlabel='daily', ylabel='Density'>"
      ]
     },
     "execution_count": 7,
     "metadata": {},
     "output_type": "execute_result"
    },
    {
     "data": {
      "image/png": "[encoded data removed]",
      "text/plain": [
       "<Figure size 640x480 with 1 Axes>"
      ]
     },
     "metadata": {},
     "output_type": "display_data"
    }
   ],
   "source": [
    "import seaborn as sns\n",
    "sns.distplot(data['daily'])"
   ]
  },
  {
   "cell_type": "code",
   "execution_count": 8,
   "metadata": {
    "colab": {
     "base_uri": "https://localhost:8080/",
     "height": 351
    },
    "id": "4VeREtJuon5u",
    "outputId": "8a0f8e62-dea2-4406-e810-cbcaefc50d31"
   },
   "outputs": [
    {
     "name": "stderr",
     "output_type": "stream",
     "text": [
      "C:\\Users\\drxmu\\AppData\\Local\\Temp\\ipykernel_15708\\3800732917.py:2: UserWarning: \n",
      "\n",
      "`distplot` is a deprecated function and will be removed in seaborn v0.14.0.\n",
      "\n",
      "Please adapt your code to use either `displot` (a figure-level function with\n",
      "similar flexibility) or `histplot` (an axes-level function for histograms).\n",
      "\n",
      "For a guide to updating your code to use the new functions, please see\n",
      "https://gist.github.com/mwaskom/de44147ed2974457ad6372750bbe5751\n",
      "\n",
      "  sns.distplot(data['sunday'])\n"
     ]
    },
    {
     "data": {
      "text/plain": [
       "<Axes: xlabel='sunday', ylabel='Density'>"
      ]
     },
     "execution_count": 8,
     "metadata": {},
     "output_type": "execute_result"
    },
    {
     "data": {
      "image/png": "[encoded data removed]",
      "text/plain": [
       "<Figure size 640x480 with 1 Axes>"
      ]
     },
     "metadata": {},
     "output_type": "display_data"
    }
   ],
   "source": [
    "import seaborn as sns\n",
    "sns.distplot(data['sunday'])"
   ]
  },
  {
   "cell_type": "markdown",
   "metadata": {
    "id": "Hh2B9xPQOAZc"
   },
   "source": [
    "Fitting a Linear Regression Model"
   ]
  },
  {
   "cell_type": "code",
   "execution_count": 9,
   "metadata": {
    "id": "0SO63uMnOAZc"
   },
   "outputs": [],
   "source": [
    "import statsmodels.formula.api as smf\n",
    "model = smf.ols(\"sunday~daily\",data = df).fit()"
   ]
  },
  {
   "cell_type": "code",
   "execution_count": 10,
   "metadata": {
    "colab": {
     "base_uri": "https://localhost:8080/",
     "height": 279
    },
    "id": "WZPZ9lDqon5z",
    "outputId": "1030fe53-d7c6-49e8-a31e-2e7228f50729"
   },
   "outputs": [
    {
     "data": {
      "image/png": "[encoded data removed]",
      "text/plain": [
       "<Figure size 640x480 with 1 Axes>"
      ]
     },
     "metadata": {},
     "output_type": "display_data"
    }
   ],
   "source": [
    "sns.regplot(x=\"daily\", y=\"sunday\", data=df);"
   ]
  },
  {
   "cell_type": "code",
   "execution_count": 11,
   "metadata": {
    "colab": {
     "base_uri": "https://localhost:8080/"
    },
    "id": "ri7sldAcon50",
    "outputId": "b56823a1-dc08-4892-fa5d-710b2c3799b4"
   },
   "outputs": [
    {
     "data": {
      "text/plain": [
       "Intercept    13.835630\n",
       "daily         1.339715\n",
       "dtype: float64"
      ]
     },
     "execution_count": 11,
     "metadata": {},
     "output_type": "execute_result"
    }
   ],
   "source": [
    "#Coefficients\n",
    "model.params"
   ]
  },
  {
   "cell_type": "code",
   "execution_count": 12,
   "metadata": {
    "id": "otPpC9kzon51",
    "outputId": "018fb059-8181-4f4a-de4a-31059ed52bc9"
   },
   "outputs": [
    {
     "name": "stdout",
     "output_type": "stream",
     "text": [
      "Intercept     0.386427\n",
      "daily        18.934840\n",
      "dtype: float64 \n",
      " Intercept    7.017382e-01\n",
      "daily        6.016802e-19\n",
      "dtype: float64\n"
     ]
    }
   ],
   "source": [
    "#t and p-Values\n",
    "print(model.tvalues, '\\n', model.pvalues)"
   ]
  },
  {
   "cell_type": "code",
   "execution_count": 13,
   "metadata": {
    "id": "GFrR1rSvon52",
    "outputId": "cc59c1bb-dae5-4417-c57c-826d2cfd984b"
   },
   "outputs": [
    {
     "data": {
      "text/plain": [
       "(np.float64(0.9180596895873295), np.float64(0.9154990548869336))"
      ]
     },
     "execution_count": 13,
     "metadata": {},
     "output_type": "execute_result"
    }
   ],
   "source": [
    "#R squared values\n",
    "(model.rsquared,model.rsquared_adj)"
   ]
  },
  {
   "cell_type": "markdown",
   "metadata": {
    "id": "F2S7v7rdOAZf"
   },
   "source": [
    "# Predict for new data point"
   ]
  },
  {
   "cell_type": "code",
   "execution_count": 14,
   "metadata": {
    "id": "rqe52vmCOAZg"
   },
   "outputs": [],
   "source": [
    "#Predict for 200 and 300 daily circulation\n",
    "newdata=pd.Series([200,300,1000])"
   ]
  },
  {
   "cell_type": "code",
   "execution_count": 15,
   "metadata": {
    "id": "ff1dWLUron53"
   },
   "outputs": [],
   "source": [
    "data_pred=pd.DataFrame(newdata,columns=['daily'])"
   ]
  },
  {
   "cell_type": "code",
   "execution_count": 16,
   "metadata": {},
   "outputs": [
    {
     "data": {
      "text/html": [
       "<div>\n",
       "<style scoped>\n",
       "    .dataframe tbody tr th:only-of-type {\n",
       "        vertical-align: middle;\n",
       "    }\n",
       "\n",
       "    .dataframe tbody tr th {\n",
       "        vertical-align: top;\n",
       "    }\n",
       "\n",
       "    .dataframe thead th {\n",
       "        text-align: right;\n",
       "    }\n",
       "</style>\n",
       "<table border=\"1\" class=\"dataframe\">\n",
       "  <thead>\n",
       "    <tr style=\"text-align: right;\">\n",
       "      <th></th>\n",
       "      <th>daily</th>\n",
       "    </tr>\n",
       "  </thead>\n",
       "  <tbody>\n",
       "    <tr>\n",
       "      <th>0</th>\n",
       "      <td>200</td>\n",
       "    </tr>\n",
       "    <tr>\n",
       "      <th>1</th>\n",
       "      <td>300</td>\n",
       "    </tr>\n",
       "    <tr>\n",
       "      <th>2</th>\n",
       "      <td>1000</td>\n",
       "    </tr>\n",
       "  </tbody>\n",
       "</table>\n",
       "</div>"
      ],
      "text/plain": [
       "   daily\n",
       "0    200\n",
       "1    300\n",
       "2   1000"
      ]
     },
     "execution_count": 16,
     "metadata": {},
     "output_type": "execute_result"
    }
   ],
   "source": [
    "data_pred"
   ]
  },
  {
   "cell_type": "code",
   "execution_count": 17,
   "metadata": {
    "colab": {
     "base_uri": "https://localhost:8080/"
    },
    "id": "M1OmCWxvon54",
    "outputId": "9652a76e-5a15-43c9-acf6-991ea66d05b3"
   },
   "outputs": [
    {
     "data": {
      "text/plain": [
       "0     281.778581\n",
       "1     415.750057\n",
       "2    1353.550388\n",
       "dtype: float64"
      ]
     },
     "execution_count": 17,
     "metadata": {},
     "output_type": "execute_result"
    }
   ],
   "source": [
    "model.predict(data_pred)"
   ]
  },
  {
   "cell_type": "code",
   "execution_count": null,
   "metadata": {
    "id": "XW8anJbaon55"
   },
   "outputs": [],
   "source": []
  }
 ],
 "metadata": {
  "colab": {
   "provenance": []
  },
  "kernelspec": {
   "display_name": "base",
   "language": "python",
   "name": "python3"
  },
  "language_info": {
   "codemirror_mode": {
    "name": "ipython",
    "version": 3
   },
   "file_extension": ".py",
   "mimetype": "text/x-python",
   "name": "python",
   "nbconvert_exporter": "python",
   "pygments_lexer": "ipython3",
   "version": "3.12.3"
  }
 },
 "nbformat": 4,
 "nbformat_minor": 1
}
